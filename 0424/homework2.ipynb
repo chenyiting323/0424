{
 "cells": [
  {
   "cell_type": "code",
   "execution_count": 10,
   "metadata": {},
   "outputs": [
    {
     "name": "stdout",
     "output_type": "stream",
     "text": [
      "猜數字[按q取消]:25\n",
      "猜錯了~繼續猜吧\n",
      "猜數字[按q取消]:8\n",
      "恭喜你~猜對了!\n"
     ]
    }
   ],
   "source": [
    "while True:\n",
    "    num =input(\"猜數字[按q取消]:\")\n",
    "    if num == \"q\":\n",
    "        break\n",
    "    elif num==\"8\":\n",
    "        print(\"恭喜你~猜對了!\")\n",
    "        break\n",
    "    else:\n",
    "        print(\"猜錯了~繼續猜吧\")\n"
   ]
  },
  {
   "cell_type": "code",
   "execution_count": null,
   "metadata": {},
   "outputs": [],
   "source": []
  }
 ],
 "metadata": {
  "kernelspec": {
   "display_name": "Python 3",
   "language": "python",
   "name": "python3"
  },
  "language_info": {
   "codemirror_mode": {
    "name": "ipython",
    "version": 3
   },
   "file_extension": ".py",
   "mimetype": "text/x-python",
   "name": "python",
   "nbconvert_exporter": "python",
   "pygments_lexer": "ipython3",
   "version": "3.7.3"
  }
 },
 "nbformat": 4,
 "nbformat_minor": 2
}
