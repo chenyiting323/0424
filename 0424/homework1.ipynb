{
 "cells": [
  {
   "cell_type": "code",
   "execution_count": 2,
   "metadata": {},
   "outputs": [
    {
     "name": "stdout",
     "output_type": "stream",
     "text": [
      "請輸入成績(0-100):88\n",
      "優秀!\n"
     ]
    }
   ],
   "source": [
    "score =eval(input(\"請輸入成績(0-100):\"))\n",
    "if score <60 and score>0:\n",
    "    print(\"不及格!\")\n",
    "elif score>=60 and score<80:\n",
    "    print(\"及格!\")\n",
    "elif score>=80 and score<=100:\n",
    "    print(\"優秀!\")\n",
    "else:\n",
    "    print(\"未知!\")"
   ]
  },
  {
   "cell_type": "code",
   "execution_count": null,
   "metadata": {},
   "outputs": [],
   "source": []
  }
 ],
 "metadata": {
  "kernelspec": {
   "display_name": "Python 3",
   "language": "python",
   "name": "python3"
  },
  "language_info": {
   "codemirror_mode": {
    "name": "ipython",
    "version": 3
   },
   "file_extension": ".py",
   "mimetype": "text/x-python",
   "name": "python",
   "nbconvert_exporter": "python",
   "pygments_lexer": "ipython3",
   "version": "3.7.3"
  }
 },
 "nbformat": 4,
 "nbformat_minor": 2
}
